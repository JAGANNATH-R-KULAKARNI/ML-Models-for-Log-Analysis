{
 "cells": [
  {
   "cell_type": "code",
   "execution_count": 71,
   "id": "3d8987f5",
   "metadata": {},
   "outputs": [],
   "source": [
    "import numpy as np\n",
    "import pandas as pd"
   ]
  },
  {
   "cell_type": "code",
   "execution_count": 72,
   "id": "683de8c2",
   "metadata": {},
   "outputs": [],
   "source": [
    "df=pd.read_csv('kernel.csv',names=['log'])"
   ]
  },
  {
   "cell_type": "code",
   "execution_count": 73,
   "id": "4de78650",
   "metadata": {},
   "outputs": [
    {
     "data": {
      "text/html": [
       "<div>\n",
       "<style scoped>\n",
       "    .dataframe tbody tr th:only-of-type {\n",
       "        vertical-align: middle;\n",
       "    }\n",
       "\n",
       "    .dataframe tbody tr th {\n",
       "        vertical-align: top;\n",
       "    }\n",
       "\n",
       "    .dataframe thead th {\n",
       "        text-align: right;\n",
       "    }\n",
       "</style>\n",
       "<table border=\"1\" class=\"dataframe\">\n",
       "  <thead>\n",
       "    <tr style=\"text-align: right;\">\n",
       "      <th></th>\n",
       "      <th>log</th>\n",
       "    </tr>\n",
       "  </thead>\n",
       "  <tbody>\n",
       "    <tr>\n",
       "      <th>0</th>\n",
       "      <td>Jun 14 15:16:01 combo sshd(pam_unix)[19939]: a...</td>\n",
       "    </tr>\n",
       "    <tr>\n",
       "      <th>1</th>\n",
       "      <td>Jun 14 15:16:02 combo sshd(pam_unix)[19937]: c...</td>\n",
       "    </tr>\n",
       "    <tr>\n",
       "      <th>2</th>\n",
       "      <td>Jun 14 15:16:02 combo sshd(pam_unix)[19937]: a...</td>\n",
       "    </tr>\n",
       "    <tr>\n",
       "      <th>3</th>\n",
       "      <td>Jun 15 02:04:59 combo sshd(pam_unix)[20882]: a...</td>\n",
       "    </tr>\n",
       "    <tr>\n",
       "      <th>4</th>\n",
       "      <td>Jun 15 02:04:59 combo sshd(pam_unix)[20884]: a...</td>\n",
       "    </tr>\n",
       "    <tr>\n",
       "      <th>...</th>\n",
       "      <td>...</td>\n",
       "    </tr>\n",
       "    <tr>\n",
       "      <th>1987</th>\n",
       "      <td>Jul 27 14:41:59 combo kernel: pci_hotplug: PCI...</td>\n",
       "    </tr>\n",
       "    <tr>\n",
       "      <th>1988</th>\n",
       "      <td>Jul 27 14:42:00 combo kernel: isapnp: Scanning...</td>\n",
       "    </tr>\n",
       "    <tr>\n",
       "      <th>1989</th>\n",
       "      <td>Jul 27 14:42:00 combo kernel: isapnp: No Plug ...</td>\n",
       "    </tr>\n",
       "    <tr>\n",
       "      <th>1990</th>\n",
       "      <td>Jul 27 14:42:00 combo kernel: Real Time Clock ...</td>\n",
       "    </tr>\n",
       "    <tr>\n",
       "      <th>1991</th>\n",
       "      <td>Jul 27 14:42:00 combo kernel: Linux agpgart in...</td>\n",
       "    </tr>\n",
       "  </tbody>\n",
       "</table>\n",
       "<p>1992 rows × 1 columns</p>\n",
       "</div>"
      ],
      "text/plain": [
       "                                                    log\n",
       "0     Jun 14 15:16:01 combo sshd(pam_unix)[19939]: a...\n",
       "1     Jun 14 15:16:02 combo sshd(pam_unix)[19937]: c...\n",
       "2     Jun 14 15:16:02 combo sshd(pam_unix)[19937]: a...\n",
       "3     Jun 15 02:04:59 combo sshd(pam_unix)[20882]: a...\n",
       "4     Jun 15 02:04:59 combo sshd(pam_unix)[20884]: a...\n",
       "...                                                 ...\n",
       "1987  Jul 27 14:41:59 combo kernel: pci_hotplug: PCI...\n",
       "1988  Jul 27 14:42:00 combo kernel: isapnp: Scanning...\n",
       "1989  Jul 27 14:42:00 combo kernel: isapnp: No Plug ...\n",
       "1990  Jul 27 14:42:00 combo kernel: Real Time Clock ...\n",
       "1991  Jul 27 14:42:00 combo kernel: Linux agpgart in...\n",
       "\n",
       "[1992 rows x 1 columns]"
      ]
     },
     "execution_count": 73,
     "metadata": {},
     "output_type": "execute_result"
    }
   ],
   "source": [
    "df"
   ]
  },
  {
   "cell_type": "code",
   "execution_count": 74,
   "id": "3ddbfd9b",
   "metadata": {},
   "outputs": [],
   "source": [
    "temp=[]\n",
    "indexes=[]\n",
    "\n",
    "for index,i in enumerate(df['log']):\n",
    "    if('[' in i.split(' ')[5]):\n",
    "        indexes.append(index)\n",
    "        continue\n",
    "    \n",
    "    temp.append(i)\n",
    "\n",
    "    \n",
    "df = df.drop(indexes, axis=0) "
   ]
  },
  {
   "cell_type": "code",
   "execution_count": 75,
   "id": "5c4630c7",
   "metadata": {},
   "outputs": [
    {
     "name": "stdout",
     "output_type": "stream",
     "text": [
      "                                                    log\n",
      "0     Jun 14 15:16:01 combo sshd(pam_unix)[19939]: a...\n",
      "1     Jun 14 15:16:02 combo sshd(pam_unix)[19937]: c...\n",
      "2     Jun 14 15:16:02 combo sshd(pam_unix)[19937]: a...\n",
      "3     Jun 15 02:04:59 combo sshd(pam_unix)[20882]: a...\n",
      "4     Jun 15 02:04:59 combo sshd(pam_unix)[20884]: a...\n",
      "...                                                 ...\n",
      "1987  Jul 27 14:41:59 combo kernel: pci_hotplug: PCI...\n",
      "1988  Jul 27 14:42:00 combo kernel: isapnp: Scanning...\n",
      "1989  Jul 27 14:42:00 combo kernel: isapnp: No Plug ...\n",
      "1990  Jul 27 14:42:00 combo kernel: Real Time Clock ...\n",
      "1991  Jul 27 14:42:00 combo kernel: Linux agpgart in...\n",
      "\n",
      "[1551 rows x 1 columns]\n"
     ]
    }
   ],
   "source": [
    "tar=[]\n",
    "inputs=[]\n",
    "\n",
    "for i, row in df.iterrows():\n",
    "    temp=row['log'].split(' ')\n",
    "    tar.append(temp[5])\n",
    "    inputs.append(temp[4]+\" \".join(temp[6:]))\n",
    "    \n",
    "print(df)    "
   ]
  },
  {
   "cell_type": "code",
   "execution_count": 76,
   "id": "4c5ed116",
   "metadata": {},
   "outputs": [
    {
     "data": {
      "text/html": [
       "<div>\n",
       "<style scoped>\n",
       "    .dataframe tbody tr th:only-of-type {\n",
       "        vertical-align: middle;\n",
       "    }\n",
       "\n",
       "    .dataframe tbody tr th {\n",
       "        vertical-align: top;\n",
       "    }\n",
       "\n",
       "    .dataframe thead th {\n",
       "        text-align: right;\n",
       "    }\n",
       "</style>\n",
       "<table border=\"1\" class=\"dataframe\">\n",
       "  <thead>\n",
       "    <tr style=\"text-align: right;\">\n",
       "      <th></th>\n",
       "      <th>log</th>\n",
       "      <th>Target</th>\n",
       "    </tr>\n",
       "  </thead>\n",
       "  <tbody>\n",
       "    <tr>\n",
       "      <th>0</th>\n",
       "      <td>Jun 14 15:16:01 combo sshd(pam_unix)[19939]: a...</td>\n",
       "      <td>authentication</td>\n",
       "    </tr>\n",
       "    <tr>\n",
       "      <th>1</th>\n",
       "      <td>Jun 14 15:16:02 combo sshd(pam_unix)[19937]: c...</td>\n",
       "      <td>check</td>\n",
       "    </tr>\n",
       "    <tr>\n",
       "      <th>2</th>\n",
       "      <td>Jun 14 15:16:02 combo sshd(pam_unix)[19937]: a...</td>\n",
       "      <td>authentication</td>\n",
       "    </tr>\n",
       "    <tr>\n",
       "      <th>3</th>\n",
       "      <td>Jun 15 02:04:59 combo sshd(pam_unix)[20882]: a...</td>\n",
       "      <td>authentication</td>\n",
       "    </tr>\n",
       "    <tr>\n",
       "      <th>4</th>\n",
       "      <td>Jun 15 02:04:59 combo sshd(pam_unix)[20884]: a...</td>\n",
       "      <td>authentication</td>\n",
       "    </tr>\n",
       "    <tr>\n",
       "      <th>...</th>\n",
       "      <td>...</td>\n",
       "      <td>...</td>\n",
       "    </tr>\n",
       "    <tr>\n",
       "      <th>1987</th>\n",
       "      <td>Jul 27 14:41:59 combo kernel: pci_hotplug: PCI...</td>\n",
       "      <td>pci_hotplug:</td>\n",
       "    </tr>\n",
       "    <tr>\n",
       "      <th>1988</th>\n",
       "      <td>Jul 27 14:42:00 combo kernel: isapnp: Scanning...</td>\n",
       "      <td>isapnp:</td>\n",
       "    </tr>\n",
       "    <tr>\n",
       "      <th>1989</th>\n",
       "      <td>Jul 27 14:42:00 combo kernel: isapnp: No Plug ...</td>\n",
       "      <td>isapnp:</td>\n",
       "    </tr>\n",
       "    <tr>\n",
       "      <th>1990</th>\n",
       "      <td>Jul 27 14:42:00 combo kernel: Real Time Clock ...</td>\n",
       "      <td>Real</td>\n",
       "    </tr>\n",
       "    <tr>\n",
       "      <th>1991</th>\n",
       "      <td>Jul 27 14:42:00 combo kernel: Linux agpgart in...</td>\n",
       "      <td>Linux</td>\n",
       "    </tr>\n",
       "  </tbody>\n",
       "</table>\n",
       "<p>1551 rows × 2 columns</p>\n",
       "</div>"
      ],
      "text/plain": [
       "                                                    log          Target\n",
       "0     Jun 14 15:16:01 combo sshd(pam_unix)[19939]: a...  authentication\n",
       "1     Jun 14 15:16:02 combo sshd(pam_unix)[19937]: c...           check\n",
       "2     Jun 14 15:16:02 combo sshd(pam_unix)[19937]: a...  authentication\n",
       "3     Jun 15 02:04:59 combo sshd(pam_unix)[20882]: a...  authentication\n",
       "4     Jun 15 02:04:59 combo sshd(pam_unix)[20884]: a...  authentication\n",
       "...                                                 ...             ...\n",
       "1987  Jul 27 14:41:59 combo kernel: pci_hotplug: PCI...    pci_hotplug:\n",
       "1988  Jul 27 14:42:00 combo kernel: isapnp: Scanning...         isapnp:\n",
       "1989  Jul 27 14:42:00 combo kernel: isapnp: No Plug ...         isapnp:\n",
       "1990  Jul 27 14:42:00 combo kernel: Real Time Clock ...            Real\n",
       "1991  Jul 27 14:42:00 combo kernel: Linux agpgart in...           Linux\n",
       "\n",
       "[1551 rows x 2 columns]"
      ]
     },
     "execution_count": 76,
     "metadata": {},
     "output_type": "execute_result"
    }
   ],
   "source": [
    "df=df.assign(Target=tar)\n",
    "df"
   ]
  },
  {
   "cell_type": "code",
   "execution_count": 77,
   "id": "db4e2221",
   "metadata": {},
   "outputs": [],
   "source": [
    "from sklearn.preprocessing import LabelEncoder\n",
    "le = LabelEncoder()\n",
    "target_copy=df.Target\n",
    "df.Target=le.fit_transform(df.Target)"
   ]
  },
  {
   "cell_type": "code",
   "execution_count": 78,
   "id": "0a7a2048",
   "metadata": {},
   "outputs": [
    {
     "data": {
      "text/plain": [
       "0       55\n",
       "1       56\n",
       "2       55\n",
       "3       55\n",
       "4       55\n",
       "        ..\n",
       "1987    70\n",
       "1988    63\n",
       "1989    63\n",
       "1990    38\n",
       "1991    30\n",
       "Name: Target, Length: 1551, dtype: int32"
      ]
     },
     "execution_count": 78,
     "metadata": {},
     "output_type": "execute_result"
    }
   ],
   "source": [
    "# target_copy\n",
    "df.Target"
   ]
  },
  {
   "cell_type": "code",
   "execution_count": 79,
   "id": "d76f4231",
   "metadata": {},
   "outputs": [],
   "source": [
    "from sklearn.feature_extraction.text import CountVectorizer\n",
    "cv=CountVectorizer()"
   ]
  },
  {
   "cell_type": "code",
   "execution_count": 80,
   "id": "69d05229",
   "metadata": {},
   "outputs": [],
   "source": [
    "target=df['Target']\n"
   ]
  },
  {
   "cell_type": "code",
   "execution_count": 81,
   "id": "4f0347ec",
   "metadata": {},
   "outputs": [],
   "source": [
    "inputs=cv.fit_transform(inputs)"
   ]
  },
  {
   "cell_type": "code",
   "execution_count": 82,
   "id": "7cedcc52",
   "metadata": {
    "scrolled": true
   },
   "outputs": [
    {
     "data": {
      "text/plain": [
       "<1551x1769 sparse matrix of type '<class 'numpy.int64'>'\n",
       "\twith 20896 stored elements in Compressed Sparse Row format>"
      ]
     },
     "execution_count": 82,
     "metadata": {},
     "output_type": "execute_result"
    }
   ],
   "source": [
    "inputs"
   ]
  },
  {
   "cell_type": "code",
   "execution_count": 83,
   "id": "38ed5fd8",
   "metadata": {},
   "outputs": [],
   "source": [
    "from sklearn.model_selection import train_test_split"
   ]
  },
  {
   "cell_type": "code",
   "execution_count": 84,
   "id": "e7cae956",
   "metadata": {},
   "outputs": [],
   "source": [
    "X_train, X_test,y_train,y_test=train_test_split(inputs,target,test_size=0.2)"
   ]
  },
  {
   "cell_type": "code",
   "execution_count": 85,
   "id": "e4af5a3f",
   "metadata": {},
   "outputs": [
    {
     "data": {
      "text/plain": [
       "<1240x1769 sparse matrix of type '<class 'numpy.int64'>'\n",
       "\twith 16724 stored elements in Compressed Sparse Row format>"
      ]
     },
     "execution_count": 85,
     "metadata": {},
     "output_type": "execute_result"
    }
   ],
   "source": [
    "X_train"
   ]
  },
  {
   "cell_type": "code",
   "execution_count": 86,
   "id": "e2dc199d",
   "metadata": {},
   "outputs": [],
   "source": [
    "from sklearn.linear_model import LogisticRegression\n",
    "model=LogisticRegression()"
   ]
  },
  {
   "cell_type": "code",
   "execution_count": 87,
   "id": "d3574c05",
   "metadata": {},
   "outputs": [
    {
     "data": {
      "text/plain": [
       "LogisticRegression()"
      ]
     },
     "execution_count": 87,
     "metadata": {},
     "output_type": "execute_result"
    }
   ],
   "source": [
    "model.fit(X_train,y_train)"
   ]
  },
  {
   "cell_type": "code",
   "execution_count": 88,
   "id": "8d78915e",
   "metadata": {},
   "outputs": [
    {
     "data": {
      "text/plain": [
       "0.9581993569131833"
      ]
     },
     "execution_count": 88,
     "metadata": {},
     "output_type": "execute_result"
    }
   ],
   "source": [
    "model.score(X_test,y_test)"
   ]
  },
  {
   "cell_type": "code",
   "execution_count": 89,
   "id": "00715836",
   "metadata": {},
   "outputs": [],
   "source": [
    " #KNN Algorithm\n",
    "from sklearn.neighbors import KNeighborsClassifier\n",
    "knn = KNeighborsClassifier(n_neighbors=10)"
   ]
  },
  {
   "cell_type": "code",
   "execution_count": 90,
   "id": "38ff1f4e",
   "metadata": {},
   "outputs": [
    {
     "data": {
      "text/plain": [
       "KNeighborsClassifier(n_neighbors=10)"
      ]
     },
     "execution_count": 90,
     "metadata": {},
     "output_type": "execute_result"
    }
   ],
   "source": [
    "knn.fit(X_train, y_train)"
   ]
  },
  {
   "cell_type": "code",
   "execution_count": 91,
   "id": "c0596440",
   "metadata": {},
   "outputs": [
    {
     "data": {
      "text/plain": [
       "0.9517684887459807"
      ]
     },
     "execution_count": 91,
     "metadata": {},
     "output_type": "execute_result"
    }
   ],
   "source": [
    "knn.score(X_test, y_test)"
   ]
  },
  {
   "cell_type": "code",
   "execution_count": 92,
   "id": "ac8dda29",
   "metadata": {},
   "outputs": [],
   "source": [
    "def find_the_type_of_log(msg):\n",
    "    data=[msg]\n",
    "    vect=cv.transform(data).toarray()\n",
    "    print(knn.predict(vect))\n",
    "    predictions_test = le.inverse_transform(knn.predict(vect))\n",
    "    print(predictions_test)\n",
    "    return \"This log might be related to : \"+str(predictions_test[0])\n",
    "    "
   ]
  },
  {
   "cell_type": "code",
   "execution_count": 93,
   "id": "4f9d335c",
   "metadata": {},
   "outputs": [
    {
     "name": "stdout",
     "output_type": "stream",
     "text": [
      "[76]\n",
      "['session']\n",
      "This log might be related to : session\n"
     ]
    }
   ],
   "source": [
    "print(find_the_type_of_log(\"closed for user test\"))\n",
    "# integerMapping=dict(zip(df.Target,target_copy))    "
   ]
  },
  {
   "cell_type": "code",
   "execution_count": 94,
   "id": "d5361987",
   "metadata": {},
   "outputs": [],
   "source": [
    "from sklearn.metrics import confusion_matrix\n",
    "y_pred = knn.predict(X_test)\n",
    "cm = confusion_matrix(y_test, y_pred)"
   ]
  },
  {
   "cell_type": "code",
   "execution_count": 95,
   "id": "e05ae9e6",
   "metadata": {},
   "outputs": [
    {
     "data": {
      "text/plain": [
       "Text(42.0, 0.5, 'Truth')"
      ]
     },
     "execution_count": 95,
     "metadata": {},
     "output_type": "execute_result"
    },
    {
     "data": {
      "image/png": "[encoded data removed]",
      "text/plain": [
       "<Figure size 504x360 with 2 Axes>"
      ]
     },
     "metadata": {
      "needs_background": "light"
     },
     "output_type": "display_data"
    }
   ],
   "source": [
    "%matplotlib inline\n",
    "import matplotlib.pyplot as plt\n",
    "import seaborn as sn\n",
    "plt.figure(figsize=(7,5))\n",
    "sn.heatmap(cm, annot=True)\n",
    "plt.xlabel('Predicted')\n",
    "plt.ylabel('Truth')"
   ]
  },
  {
   "cell_type": "code",
   "execution_count": 96,
   "id": "e90491a7",
   "metadata": {},
   "outputs": [
    {
     "name": "stdout",
     "output_type": "stream",
     "text": [
      "              precision    recall  f1-score   support\n",
      "\n",
      "           0       1.00      0.50      0.67         2\n",
      "           1       0.00      0.00      0.00         0\n",
      "           2       0.00      0.00      0.00         0\n",
      "           4       0.00      0.00      0.00         0\n",
      "           5       1.00      1.00      1.00         7\n",
      "           7       1.00      1.00      1.00         7\n",
      "           9       0.00      0.00      0.00         1\n",
      "          10       0.00      0.00      0.00         0\n",
      "          12       0.00      0.00      0.00         1\n",
      "          24       0.00      0.00      0.00         1\n",
      "          25       0.00      0.00      0.00         0\n",
      "          27       0.00      0.00      0.00         1\n",
      "          28       1.00      1.00      1.00         5\n",
      "          32       0.00      0.00      0.00         1\n",
      "          35       0.00      0.00      0.00         2\n",
      "          44       0.00      0.00      0.00         1\n",
      "          47       0.00      0.00      0.00         1\n",
      "          48       0.00      0.00      0.00         1\n",
      "          55       1.00      1.00      1.00        83\n",
      "          56       1.00      1.00      1.00        26\n",
      "          57       1.00      1.00      1.00       123\n",
      "          59       0.29      1.00      0.44         2\n",
      "          60       1.00      1.00      1.00         2\n",
      "          62       0.00      0.00      0.00         1\n",
      "          65       0.00      0.00      0.00         1\n",
      "          66       1.00      1.00      1.00         3\n",
      "          68       0.00      0.00      0.00         1\n",
      "          69       1.00      1.00      1.00         6\n",
      "          74       0.00      0.00      0.00         1\n",
      "          76       1.00      1.00      1.00        31\n",
      "\n",
      "    accuracy                           0.95       311\n",
      "   macro avg       0.38      0.38      0.37       311\n",
      "weighted avg       0.95      0.95      0.95       311\n",
      "\n"
     ]
    },
    {
     "name": "stderr",
     "output_type": "stream",
     "text": [
      "C:\\Users\\jagan\\anaconda3\\lib\\site-packages\\sklearn\\metrics\\_classification.py:1248: UndefinedMetricWarning: Precision and F-score are ill-defined and being set to 0.0 in labels with no predicted samples. Use `zero_division` parameter to control this behavior.\n",
      "  _warn_prf(average, modifier, msg_start, len(result))\n",
      "C:\\Users\\jagan\\anaconda3\\lib\\site-packages\\sklearn\\metrics\\_classification.py:1248: UndefinedMetricWarning: Recall and F-score are ill-defined and being set to 0.0 in labels with no true samples. Use `zero_division` parameter to control this behavior.\n",
      "  _warn_prf(average, modifier, msg_start, len(result))\n",
      "C:\\Users\\jagan\\anaconda3\\lib\\site-packages\\sklearn\\metrics\\_classification.py:1248: UndefinedMetricWarning: Precision and F-score are ill-defined and being set to 0.0 in labels with no predicted samples. Use `zero_division` parameter to control this behavior.\n",
      "  _warn_prf(average, modifier, msg_start, len(result))\n",
      "C:\\Users\\jagan\\anaconda3\\lib\\site-packages\\sklearn\\metrics\\_classification.py:1248: UndefinedMetricWarning: Recall and F-score are ill-defined and being set to 0.0 in labels with no true samples. Use `zero_division` parameter to control this behavior.\n",
      "  _warn_prf(average, modifier, msg_start, len(result))\n",
      "C:\\Users\\jagan\\anaconda3\\lib\\site-packages\\sklearn\\metrics\\_classification.py:1248: UndefinedMetricWarning: Precision and F-score are ill-defined and being set to 0.0 in labels with no predicted samples. Use `zero_division` parameter to control this behavior.\n",
      "  _warn_prf(average, modifier, msg_start, len(result))\n",
      "C:\\Users\\jagan\\anaconda3\\lib\\site-packages\\sklearn\\metrics\\_classification.py:1248: UndefinedMetricWarning: Recall and F-score are ill-defined and being set to 0.0 in labels with no true samples. Use `zero_division` parameter to control this behavior.\n",
      "  _warn_prf(average, modifier, msg_start, len(result))\n"
     ]
    }
   ],
   "source": [
    "from sklearn.metrics import classification_report\n",
    "\n",
    "print(classification_report(y_test, y_pred))"
   ]
  },
  {
   "cell_type": "code",
   "execution_count": 97,
   "id": "3081f02f",
   "metadata": {},
   "outputs": [],
   "source": [
    "from sklearn.svm import SVC\n",
    "svc = SVC()"
   ]
  },
  {
   "cell_type": "code",
   "execution_count": 98,
   "id": "b7979039",
   "metadata": {},
   "outputs": [
    {
     "data": {
      "text/plain": [
       "SVC()"
      ]
     },
     "execution_count": 98,
     "metadata": {},
     "output_type": "execute_result"
    }
   ],
   "source": [
    "svc.fit(X_train, y_train)"
   ]
  },
  {
   "cell_type": "code",
   "execution_count": 99,
   "id": "650ac735",
   "metadata": {},
   "outputs": [
    {
     "data": {
      "text/plain": [
       "0.954983922829582"
      ]
     },
     "execution_count": 99,
     "metadata": {},
     "output_type": "execute_result"
    }
   ],
   "source": [
    "svc.score(X_test, y_test)"
   ]
  },
  {
   "cell_type": "code",
   "execution_count": 100,
   "id": "f215a806",
   "metadata": {},
   "outputs": [],
   "source": [
    "def find_the_type_of_log_using_svc(msg):\n",
    "    data=[msg]\n",
    "    vect=cv.transform(data).toarray()\n",
    "    print(svc.predict(vect))\n",
    "    predictions_test = le.inverse_transform(svc.predict(vect))\n",
    "    print(predictions_test)\n",
    "    return \"This log might be related to : \"+str(predictions_test[0])"
   ]
  },
  {
   "cell_type": "code",
   "execution_count": 101,
   "id": "5871f1a1",
   "metadata": {},
   "outputs": [
    {
     "name": "stdout",
     "output_type": "stream",
     "text": [
      "[76]\n",
      "['session']\n",
      "This log might be related to : session\n"
     ]
    }
   ],
   "source": [
    "print(find_the_type_of_log_using_svc(\"closed for user test\"))"
   ]
  },
  {
   "cell_type": "code",
   "execution_count": 102,
   "id": "28783995",
   "metadata": {},
   "outputs": [
    {
     "data": {
      "text/plain": [
       "0.9581993569131833"
      ]
     },
     "execution_count": 102,
     "metadata": {},
     "output_type": "execute_result"
    }
   ],
   "source": [
    "#Regularization\n",
    "\n",
    "svc2 = SVC(C=10)\n",
    "svc2.fit(X_train, y_train)\n",
    "svc2.score(X_test, y_test)"
   ]
  },
  {
   "cell_type": "code",
   "execution_count": 103,
   "id": "572bba6f",
   "metadata": {},
   "outputs": [
    {
     "data": {
      "text/plain": [
       "0.4533762057877814"
      ]
     },
     "execution_count": 103,
     "metadata": {},
     "output_type": "execute_result"
    }
   ],
   "source": [
    " #Gamma \n",
    "    \n",
    "svc3 = SVC(gamma=100)\n",
    "svc3.fit(X_train, y_train)\n",
    "svc3.score(X_test, y_test)"
   ]
  },
  {
   "cell_type": "code",
   "execution_count": 104,
   "id": "c01c1ad1",
   "metadata": {},
   "outputs": [
    {
     "data": {
      "text/plain": [
       "0.9581993569131833"
      ]
     },
     "execution_count": 104,
     "metadata": {},
     "output_type": "execute_result"
    }
   ],
   "source": [
    "#Kernel \n",
    "\n",
    "svc_linear_kernal = SVC(kernel='linear')\n",
    "svc_linear_kernal.fit(X_train, y_train)\n",
    "svc_linear_kernal.score(X_test, y_test)"
   ]
  },
  {
   "cell_type": "code",
   "execution_count": 105,
   "id": "17a0b6c9",
   "metadata": {},
   "outputs": [
    {
     "data": {
      "text/plain": [
       "0.9991935483870967"
      ]
     },
     "execution_count": 105,
     "metadata": {},
     "output_type": "execute_result"
    }
   ],
   "source": [
    "   # Decision Trees \n",
    "from sklearn import tree\n",
    "tree=tree.DecisionTreeClassifier()\n",
    "tree.fit(X_train,y_train)\n",
    "tree.score(X_train,y_train)"
   ]
  },
  {
   "cell_type": "code",
   "execution_count": 106,
   "id": "c3bdffcf",
   "metadata": {},
   "outputs": [],
   "source": [
    "def find_the_type_of_log_using_decision_trees(msg):\n",
    "    data=[msg]\n",
    "    vect=cv.transform(data).toarray()\n",
    "    print(tree.predict(vect))\n",
    "    predictions_test = le.inverse_transform(tree.predict(vect))\n",
    "    print(predictions_test)\n",
    "    return \"This log might be related to : \"+str(predictions_test[0])"
   ]
  },
  {
   "cell_type": "code",
   "execution_count": 107,
   "id": "3303b2e3",
   "metadata": {},
   "outputs": [
    {
     "name": "stdout",
     "output_type": "stream",
     "text": [
      "[76]\n",
      "['session']\n",
      "This log might be related to : session\n"
     ]
    }
   ],
   "source": [
    "print(find_the_type_of_log_using_decision_trees(\"closed for user test\"))"
   ]
  },
  {
   "cell_type": "code",
   "execution_count": 108,
   "id": "b302a06f",
   "metadata": {},
   "outputs": [
    {
     "data": {
      "text/plain": [
       "0.954983922829582"
      ]
     },
     "execution_count": 108,
     "metadata": {},
     "output_type": "execute_result"
    }
   ],
   "source": [
    "  # Random Forest\n",
    "from sklearn.ensemble import RandomForestClassifier\n",
    "rand_forest = RandomForestClassifier(n_estimators=20)\n",
    "rand_forest.fit(X_train, y_train)    \n",
    "rand_forest.score(X_test, y_test)"
   ]
  },
  {
   "cell_type": "code",
   "execution_count": 110,
   "id": "142a63f5",
   "metadata": {},
   "outputs": [],
   "source": [
    "def find_the_type_of_log_using_random_forest_classifier(msg):\n",
    "    data=[msg]\n",
    "    vect=cv.transform(data).toarray()\n",
    "    print(rand_forest.predict(vect))\n",
    "    predictions_test = le.inverse_transform(rand_forest.predict(vect))\n",
    "    print(predictions_test)\n",
    "    return \"This log might be related to : \"+str(predictions_test[0])"
   ]
  },
  {
   "cell_type": "code",
   "execution_count": 111,
   "id": "68fd8a46",
   "metadata": {},
   "outputs": [
    {
     "name": "stdout",
     "output_type": "stream",
     "text": [
      "[76]\n",
      "['session']\n",
      "This log might be related to : session\n"
     ]
    }
   ],
   "source": [
    "print(find_the_type_of_log_using_random_forest_classifier(\"closed for user test\"))"
   ]
  },
  {
   "cell_type": "code",
   "execution_count": 114,
   "id": "3db33bb7",
   "metadata": {},
   "outputs": [
    {
     "data": {
      "text/plain": [
       "array([2, 1, 2, ..., 1, 1, 1])"
      ]
     },
     "execution_count": 114,
     "metadata": {},
     "output_type": "execute_result"
    }
   ],
   "source": [
    "# K Means Clustering\n",
    "from sklearn.cluster import KMeans\n",
    "km = KMeans(n_clusters=3)\n",
    "y_predicted = km.fit_predict(inputs)\n",
    "y_predicted"
   ]
  },
  {
   "cell_type": "code",
   "execution_count": 120,
   "id": "fe16a16e",
   "metadata": {},
   "outputs": [],
   "source": [
    "df['Results']=y_predicted"
   ]
  },
  {
   "cell_type": "code",
   "execution_count": 121,
   "id": "93377ed8",
   "metadata": {},
   "outputs": [
    {
     "data": {
      "text/html": [
       "<div>\n",
       "<style scoped>\n",
       "    .dataframe tbody tr th:only-of-type {\n",
       "        vertical-align: middle;\n",
       "    }\n",
       "\n",
       "    .dataframe tbody tr th {\n",
       "        vertical-align: top;\n",
       "    }\n",
       "\n",
       "    .dataframe thead th {\n",
       "        text-align: right;\n",
       "    }\n",
       "</style>\n",
       "<table border=\"1\" class=\"dataframe\">\n",
       "  <thead>\n",
       "    <tr style=\"text-align: right;\">\n",
       "      <th></th>\n",
       "      <th>log</th>\n",
       "      <th>Target</th>\n",
       "      <th>Results</th>\n",
       "    </tr>\n",
       "  </thead>\n",
       "  <tbody>\n",
       "    <tr>\n",
       "      <th>0</th>\n",
       "      <td>Jun 14 15:16:01 combo sshd(pam_unix)[19939]: a...</td>\n",
       "      <td>55</td>\n",
       "      <td>2</td>\n",
       "    </tr>\n",
       "    <tr>\n",
       "      <th>1</th>\n",
       "      <td>Jun 14 15:16:02 combo sshd(pam_unix)[19937]: c...</td>\n",
       "      <td>56</td>\n",
       "      <td>1</td>\n",
       "    </tr>\n",
       "    <tr>\n",
       "      <th>2</th>\n",
       "      <td>Jun 14 15:16:02 combo sshd(pam_unix)[19937]: a...</td>\n",
       "      <td>55</td>\n",
       "      <td>2</td>\n",
       "    </tr>\n",
       "    <tr>\n",
       "      <th>3</th>\n",
       "      <td>Jun 15 02:04:59 combo sshd(pam_unix)[20882]: a...</td>\n",
       "      <td>55</td>\n",
       "      <td>2</td>\n",
       "    </tr>\n",
       "    <tr>\n",
       "      <th>4</th>\n",
       "      <td>Jun 15 02:04:59 combo sshd(pam_unix)[20884]: a...</td>\n",
       "      <td>55</td>\n",
       "      <td>2</td>\n",
       "    </tr>\n",
       "    <tr>\n",
       "      <th>...</th>\n",
       "      <td>...</td>\n",
       "      <td>...</td>\n",
       "      <td>...</td>\n",
       "    </tr>\n",
       "    <tr>\n",
       "      <th>1987</th>\n",
       "      <td>Jul 27 14:41:59 combo kernel: pci_hotplug: PCI...</td>\n",
       "      <td>70</td>\n",
       "      <td>1</td>\n",
       "    </tr>\n",
       "    <tr>\n",
       "      <th>1988</th>\n",
       "      <td>Jul 27 14:42:00 combo kernel: isapnp: Scanning...</td>\n",
       "      <td>63</td>\n",
       "      <td>1</td>\n",
       "    </tr>\n",
       "    <tr>\n",
       "      <th>1989</th>\n",
       "      <td>Jul 27 14:42:00 combo kernel: isapnp: No Plug ...</td>\n",
       "      <td>63</td>\n",
       "      <td>1</td>\n",
       "    </tr>\n",
       "    <tr>\n",
       "      <th>1990</th>\n",
       "      <td>Jul 27 14:42:00 combo kernel: Real Time Clock ...</td>\n",
       "      <td>38</td>\n",
       "      <td>1</td>\n",
       "    </tr>\n",
       "    <tr>\n",
       "      <th>1991</th>\n",
       "      <td>Jul 27 14:42:00 combo kernel: Linux agpgart in...</td>\n",
       "      <td>30</td>\n",
       "      <td>1</td>\n",
       "    </tr>\n",
       "  </tbody>\n",
       "</table>\n",
       "<p>1551 rows × 3 columns</p>\n",
       "</div>"
      ],
      "text/plain": [
       "                                                    log  Target  Results\n",
       "0     Jun 14 15:16:01 combo sshd(pam_unix)[19939]: a...      55        2\n",
       "1     Jun 14 15:16:02 combo sshd(pam_unix)[19937]: c...      56        1\n",
       "2     Jun 14 15:16:02 combo sshd(pam_unix)[19937]: a...      55        2\n",
       "3     Jun 15 02:04:59 combo sshd(pam_unix)[20882]: a...      55        2\n",
       "4     Jun 15 02:04:59 combo sshd(pam_unix)[20884]: a...      55        2\n",
       "...                                                 ...     ...      ...\n",
       "1987  Jul 27 14:41:59 combo kernel: pci_hotplug: PCI...      70        1\n",
       "1988  Jul 27 14:42:00 combo kernel: isapnp: Scanning...      63        1\n",
       "1989  Jul 27 14:42:00 combo kernel: isapnp: No Plug ...      63        1\n",
       "1990  Jul 27 14:42:00 combo kernel: Real Time Clock ...      38        1\n",
       "1991  Jul 27 14:42:00 combo kernel: Linux agpgart in...      30        1\n",
       "\n",
       "[1551 rows x 3 columns]"
      ]
     },
     "execution_count": 121,
     "metadata": {},
     "output_type": "execute_result"
    }
   ],
   "source": [
    "df"
   ]
  },
  {
   "cell_type": "code",
   "execution_count": 122,
   "id": "ccecd954",
   "metadata": {},
   "outputs": [
    {
     "data": {
      "text/plain": [
       "<matplotlib.legend.Legend at 0x27307380640>"
      ]
     },
     "execution_count": 122,
     "metadata": {},
     "output_type": "execute_result"
    },
    {
     "data": {
      "image/png": "[encoded data removed]",
      "text/plain": [
       "<Figure size 432x288 with 1 Axes>"
      ]
     },
     "metadata": {
      "needs_background": "light"
     },
     "output_type": "display_data"
    }
   ],
   "source": [
    "df1 = df[df.Results==0]\n",
    "df2 = df[df.Results==1]\n",
    "df3 = df[df.Results==2]\n",
    "plt.scatter(df1.Target,df1['Results'],color='green')\n",
    "plt.scatter(df2.Target,df2['Results'],color='red')\n",
    "plt.scatter(df3.Target,df3['Results'],color='black')\n",
    "plt.scatter(km.cluster_centers_[:,0],km.cluster_centers_[:,1],color='purple',marker='*',label='centroid')\n",
    "plt.legend()"
   ]
  },
  {
   "cell_type": "code",
   "execution_count": 123,
   "id": "8e6e076a",
   "metadata": {},
   "outputs": [],
   "source": [
    "sse = []\n",
    "k_rng = range(1,10)\n",
    "for k in k_rng:\n",
    "    km = KMeans(n_clusters=k)\n",
    "    km.fit(inputs)\n",
    "    sse.append(km.inertia_)"
   ]
  },
  {
   "cell_type": "code",
   "execution_count": 124,
   "id": "323925ca",
   "metadata": {},
   "outputs": [
    {
     "data": {
      "text/plain": [
       "[<matplotlib.lines.Line2D at 0x2730741e700>]"
      ]
     },
     "execution_count": 124,
     "metadata": {},
     "output_type": "execute_result"
    },
    {
     "data": {
      "image/png": "[encoded data removed]",
      "text/plain": [
       "<Figure size 432x288 with 1 Axes>"
      ]
     },
     "metadata": {
      "needs_background": "light"
     },
     "output_type": "display_data"
    }
   ],
   "source": [
    "plt.xlabel('K')\n",
    "plt.ylabel('Sum of squared error')\n",
    "plt.plot(k_rng,sse)"
   ]
  },
  {
   "cell_type": "code",
   "execution_count": 128,
   "id": "46aa4d45",
   "metadata": {},
   "outputs": [
    {
     "data": {
      "text/plain": [
       "0.9453376205787781"
      ]
     },
     "execution_count": 128,
     "metadata": {},
     "output_type": "execute_result"
    }
   ],
   "source": [
    "# Naive Bayes \n",
    "from sklearn.naive_bayes import MultinomialNB\n",
    "mnb = MultinomialNB()\n",
    "mnb.fit(X_train, y_train)\n",
    "mnb.score(X_test, y_test)"
   ]
  },
  {
   "cell_type": "code",
   "execution_count": 130,
   "id": "1bf761e0",
   "metadata": {},
   "outputs": [],
   "source": [
    "def find_the_type_of_log_using_naive_bayes(msg):\n",
    "    data=[msg]\n",
    "    vect=cv.transform(data).toarray()\n",
    "    print(mnb.predict(vect))\n",
    "    predictions_test = le.inverse_transform(mnb.predict(vect))\n",
    "    print(predictions_test)\n",
    "    return \"This log might be related to : \"+str(predictions_test[0])"
   ]
  },
  {
   "cell_type": "code",
   "execution_count": 131,
   "id": "f1bd26cd",
   "metadata": {},
   "outputs": [
    {
     "name": "stdout",
     "output_type": "stream",
     "text": [
      "[76]\n",
      "['session']\n",
      "This log might be related to : session\n"
     ]
    }
   ],
   "source": [
    "print(find_the_type_of_log_using_naive_bayes(\"closed for user test\"))"
   ]
  },
  {
   "cell_type": "code",
   "execution_count": null,
   "id": "ec3df782",
   "metadata": {},
   "outputs": [],
   "source": []
  }
 ],
 "metadata": {
  "kernelspec": {
   "display_name": "Python 3 (ipykernel)",
   "language": "python",
   "name": "python3"
  },
  "language_info": {
   "codemirror_mode": {
    "name": "ipython",
    "version": 3
   },
   "file_extension": ".py",
   "mimetype": "text/x-python",
   "name": "python",
   "nbconvert_exporter": "python",
   "pygments_lexer": "ipython3",
   "version": "3.9.7"
  }
 },
 "nbformat": 4,
 "nbformat_minor": 5
}
